{
  "nbformat": 4,
  "nbformat_minor": 0,
  "metadata": {
    "colab": {
      "name": "bsuite_tutorial.ipynb",
      "version": "0.3.2",
      "provenance": [],
      "collapsed_sections": [],
      "include_colab_link": true
    },
    "kernelspec": {
      "name": "python3",
      "display_name": "Python 3"
    }
  },
  "cells": [
    {
      "cell_type": "markdown",
      "metadata": {
        "id": "view-in-github",
        "colab_type": "text"
      },
      "source": [
        "<a href=\"https://colab.research.google.com/github/chahuja/colab-notebooks/blob/master/bsuite_tutorial.ipynb\" target=\"_parent\"><img src=\"https://colab.research.google.com/assets/colab-badge.svg\" alt=\"Open In Colab\"/></a>"
      ]
    },
    {
      "cell_type": "markdown",
      "metadata": {
        "id": "ZnE8wnpaPwoj",
        "colab_type": "text"
      },
      "source": [
        "# Getting started with `bsuite`\n",
        "\n",
        "[bit.ly/bsuite-tutorial-colab](http://bit.ly/bsuite-tutorial-colab)\n",
        "\n",
        "The Core RL Behaviour Suite, or `bsuite` for short, is a collection of experiments that investigate the core capabilities of a reinforcement learning (RL) agent.\n",
        "- This notebook is designed to get you up to speed on the [open source code](www.github.com/deepmind/bsuite) for running `bsuite`.\n",
        "- You can read more about the project via the [arXiv paper](linktopaper.com).\n",
        "\n",
        "\n"
      ]
    },
    {
      "cell_type": "markdown",
      "metadata": {
        "id": "1LZ1nsedP2M8",
        "colab_type": "text"
      },
      "source": [
        "## Imports / installation\n",
        "\n",
        "In this section we will use `pip` to install `bsuite`.\n",
        "\n",
        "Make sure that you are running a Python 3 runtime."
      ]
    },
    {
      "cell_type": "code",
      "metadata": {
        "id": "yXX9QRlt42NR",
        "colab_type": "code",
        "outputId": "b624fd7a-663c-4f9d-9fd2-d824f621aae7",
        "colab": {
          "base_uri": "https://localhost:8080/",
          "height": 153
        }
      },
      "source": [
        "#@title Installing bsuite\n",
        "!git clone https://github.com/deepmind/bsuite.git\n",
        "!pip install -q bsuite/"
      ],
      "execution_count": 0,
      "outputs": [
        {
          "output_type": "stream",
          "text": [
            "Cloning into 'bsuite'...\n",
            "remote: Enumerating objects: 262, done.\u001b[K\n",
            "remote: Counting objects: 100% (262/262), done.\u001b[K\n",
            "remote: Compressing objects: 100% (137/137), done.\u001b[K\n",
            "remote: Total 262 (delta 130), reused 255 (delta 123), pack-reused 0\u001b[K\n",
            "Receiving objects: 100% (262/262), 398.51 KiB | 13.74 MiB/s, done.\n",
            "Resolving deltas: 100% (130/130), done.\n",
            "  Building wheel for bsuite (setup.py) ... \u001b[?25l\u001b[?25hdone\n"
          ],
          "name": "stdout"
        }
      ]
    },
    {
      "cell_type": "code",
      "metadata": {
        "id": "1tqS62xCcCF9",
        "colab_type": "code",
        "colab": {}
      },
      "source": [
        "#@title Basic imports\n",
        "import bsuite"
      ],
      "execution_count": 0,
      "outputs": []
    },
    {
      "cell_type": "markdown",
      "metadata": {
        "id": "61CTmzWzbGo1",
        "colab_type": "text"
      },
      "source": [
        "## Experiments\n",
        "`bsuite` defines a set of *experiments*. \n",
        "In the context of `bsuite` an *experiment* consists of three parts:\n",
        "1. **Environments:** a fixed set of configurations of an RL environment (e.g. a 5-armed bandit with variable levels of noise).\n",
        "2. **Protocol**: a fixed regime of agent/environment interaction (e.g. 100 episodes of experience).\n",
        "3. **Analysis**: a fixed set of procedures to maps agent *behaviour* to results and plots.\n",
        "\n",
        "Each configuration within an experiment is identified by a string identifier called `bsuite_id`. \n",
        "<br> Each `bsuite_id` is constructed by concatenating experiment name, the separator `/`, and a number identifyng the specific configuration.\n",
        "<br> The valid `bsuite_id` are defined in `bsuite.sweep`."
      ]
    },
    {
      "cell_type": "code",
      "metadata": {
        "id": "6rTV87GidBwa",
        "colab_type": "code",
        "outputId": "4a0846d6-0413-4565-b081-6e8938d57298",
        "colab": {
          "base_uri": "https://localhost:8080/",
          "height": 54
        }
      },
      "source": [
        "#@title Valid Ids across all experiments:\n",
        "from bsuite import sweep\n",
        "print('All possible values for bsuite_id:', sweep.SWEEP)"
      ],
      "execution_count": 0,
      "outputs": [
        {
          "output_type": "stream",
          "text": [
            "All possible values for bsuite_id: ('bandit/0', 'bandit/1', 'bandit/2', 'bandit/3', 'bandit/4', 'bandit/5', 'bandit/6', 'bandit/7', 'bandit/8', 'bandit/9', 'bandit/10', 'bandit/11', 'bandit/12', 'bandit/13', 'bandit/14', 'bandit/15', 'bandit/16', 'bandit/17', 'bandit/18', 'bandit/19', 'bandit_noise/0', 'bandit_noise/1', 'bandit_noise/2', 'bandit_noise/3', 'bandit_noise/4', 'bandit_noise/5', 'bandit_noise/6', 'bandit_noise/7', 'bandit_noise/8', 'bandit_noise/9', 'bandit_noise/10', 'bandit_noise/11', 'bandit_noise/12', 'bandit_noise/13', 'bandit_noise/14', 'bandit_noise/15', 'bandit_noise/16', 'bandit_noise/17', 'bandit_noise/18', 'bandit_noise/19', 'bandit_scale/0', 'bandit_scale/1', 'bandit_scale/2', 'bandit_scale/3', 'bandit_scale/4', 'bandit_scale/5', 'bandit_scale/6', 'bandit_scale/7', 'bandit_scale/8', 'bandit_scale/9', 'bandit_scale/10', 'bandit_scale/11', 'bandit_scale/12', 'bandit_scale/13', 'bandit_scale/14', 'bandit_scale/15', 'bandit_scale/16', 'bandit_scale/17', 'bandit_scale/18', 'bandit_scale/19', 'cartpole/0', 'cartpole/1', 'cartpole/2', 'cartpole/3', 'cartpole/4', 'cartpole/5', 'cartpole/6', 'cartpole/7', 'cartpole/8', 'cartpole/9', 'cartpole/10', 'cartpole/11', 'cartpole/12', 'cartpole/13', 'cartpole/14', 'cartpole/15', 'cartpole/16', 'cartpole/17', 'cartpole/18', 'cartpole/19', 'cartpole_noise/0', 'cartpole_noise/1', 'cartpole_noise/2', 'cartpole_noise/3', 'cartpole_noise/4', 'cartpole_noise/5', 'cartpole_noise/6', 'cartpole_noise/7', 'cartpole_noise/8', 'cartpole_noise/9', 'cartpole_noise/10', 'cartpole_noise/11', 'cartpole_noise/12', 'cartpole_noise/13', 'cartpole_noise/14', 'cartpole_noise/15', 'cartpole_noise/16', 'cartpole_noise/17', 'cartpole_noise/18', 'cartpole_noise/19', 'cartpole_scale/0', 'cartpole_scale/1', 'cartpole_scale/2', 'cartpole_scale/3', 'cartpole_scale/4', 'cartpole_scale/5', 'cartpole_scale/6', 'cartpole_scale/7', 'cartpole_scale/8', 'cartpole_scale/9', 'cartpole_scale/10', 'cartpole_scale/11', 'cartpole_scale/12', 'cartpole_scale/13', 'cartpole_scale/14', 'cartpole_scale/15', 'cartpole_scale/16', 'cartpole_scale/17', 'cartpole_scale/18', 'cartpole_scale/19', 'cartpole_swingup/0', 'cartpole_swingup/1', 'cartpole_swingup/2', 'cartpole_swingup/3', 'cartpole_swingup/4', 'cartpole_swingup/5', 'cartpole_swingup/6', 'cartpole_swingup/7', 'cartpole_swingup/8', 'cartpole_swingup/9', 'cartpole_swingup/10', 'cartpole_swingup/11', 'cartpole_swingup/12', 'cartpole_swingup/13', 'cartpole_swingup/14', 'cartpole_swingup/15', 'cartpole_swingup/16', 'cartpole_swingup/17', 'cartpole_swingup/18', 'cartpole_swingup/19', 'catch/0', 'catch/1', 'catch/2', 'catch/3', 'catch/4', 'catch/5', 'catch/6', 'catch/7', 'catch/8', 'catch/9', 'catch/10', 'catch/11', 'catch/12', 'catch/13', 'catch/14', 'catch/15', 'catch/16', 'catch/17', 'catch/18', 'catch/19', 'catch_noise/0', 'catch_noise/1', 'catch_noise/2', 'catch_noise/3', 'catch_noise/4', 'catch_noise/5', 'catch_noise/6', 'catch_noise/7', 'catch_noise/8', 'catch_noise/9', 'catch_noise/10', 'catch_noise/11', 'catch_noise/12', 'catch_noise/13', 'catch_noise/14', 'catch_noise/15', 'catch_noise/16', 'catch_noise/17', 'catch_noise/18', 'catch_noise/19', 'catch_scale/0', 'catch_scale/1', 'catch_scale/2', 'catch_scale/3', 'catch_scale/4', 'catch_scale/5', 'catch_scale/6', 'catch_scale/7', 'catch_scale/8', 'catch_scale/9', 'catch_scale/10', 'catch_scale/11', 'catch_scale/12', 'catch_scale/13', 'catch_scale/14', 'catch_scale/15', 'catch_scale/16', 'catch_scale/17', 'catch_scale/18', 'catch_scale/19', 'deep_sea/0', 'deep_sea/1', 'deep_sea/2', 'deep_sea/3', 'deep_sea/4', 'deep_sea/5', 'deep_sea/6', 'deep_sea/7', 'deep_sea/8', 'deep_sea/9', 'deep_sea/10', 'deep_sea/11', 'deep_sea/12', 'deep_sea/13', 'deep_sea/14', 'deep_sea/15', 'deep_sea/16', 'deep_sea/17', 'deep_sea/18', 'deep_sea/19', 'deep_sea/20', 'deep_sea_stochastic/0', 'deep_sea_stochastic/1', 'deep_sea_stochastic/2', 'deep_sea_stochastic/3', 'deep_sea_stochastic/4', 'deep_sea_stochastic/5', 'deep_sea_stochastic/6', 'deep_sea_stochastic/7', 'deep_sea_stochastic/8', 'deep_sea_stochastic/9', 'deep_sea_stochastic/10', 'deep_sea_stochastic/11', 'deep_sea_stochastic/12', 'deep_sea_stochastic/13', 'deep_sea_stochastic/14', 'deep_sea_stochastic/15', 'deep_sea_stochastic/16', 'deep_sea_stochastic/17', 'deep_sea_stochastic/18', 'deep_sea_stochastic/19', 'deep_sea_stochastic/20', 'discounting_chain/0', 'discounting_chain/1', 'discounting_chain/2', 'discounting_chain/3', 'discounting_chain/4', 'discounting_chain/5', 'discounting_chain/6', 'discounting_chain/7', 'discounting_chain/8', 'discounting_chain/9', 'discounting_chain/10', 'discounting_chain/11', 'discounting_chain/12', 'discounting_chain/13', 'discounting_chain/14', 'discounting_chain/15', 'discounting_chain/16', 'discounting_chain/17', 'discounting_chain/18', 'discounting_chain/19', 'memory_len/0', 'memory_len/1', 'memory_len/2', 'memory_len/3', 'memory_len/4', 'memory_len/5', 'memory_len/6', 'memory_len/7', 'memory_len/8', 'memory_len/9', 'memory_len/10', 'memory_len/11', 'memory_len/12', 'memory_len/13', 'memory_len/14', 'memory_len/15', 'memory_len/16', 'memory_len/17', 'memory_len/18', 'memory_len/19', 'memory_len/20', 'memory_len/21', 'memory_len/22', 'memory_size/0', 'memory_size/1', 'memory_size/2', 'memory_size/3', 'memory_size/4', 'memory_size/5', 'memory_size/6', 'memory_size/7', 'memory_size/8', 'memory_size/9', 'memory_size/10', 'memory_size/11', 'memory_size/12', 'memory_size/13', 'memory_size/14', 'memory_size/15', 'memory_size/16', 'mnist/0', 'mnist/1', 'mnist/2', 'mnist/3', 'mnist/4', 'mnist/5', 'mnist/6', 'mnist/7', 'mnist/8', 'mnist/9', 'mnist/10', 'mnist/11', 'mnist/12', 'mnist/13', 'mnist/14', 'mnist/15', 'mnist/16', 'mnist/17', 'mnist/18', 'mnist/19', 'mnist_noise/0', 'mnist_noise/1', 'mnist_noise/2', 'mnist_noise/3', 'mnist_noise/4', 'mnist_noise/5', 'mnist_noise/6', 'mnist_noise/7', 'mnist_noise/8', 'mnist_noise/9', 'mnist_noise/10', 'mnist_noise/11', 'mnist_noise/12', 'mnist_noise/13', 'mnist_noise/14', 'mnist_noise/15', 'mnist_noise/16', 'mnist_noise/17', 'mnist_noise/18', 'mnist_noise/19', 'mnist_scale/0', 'mnist_scale/1', 'mnist_scale/2', 'mnist_scale/3', 'mnist_scale/4', 'mnist_scale/5', 'mnist_scale/6', 'mnist_scale/7', 'mnist_scale/8', 'mnist_scale/9', 'mnist_scale/10', 'mnist_scale/11', 'mnist_scale/12', 'mnist_scale/13', 'mnist_scale/14', 'mnist_scale/15', 'mnist_scale/16', 'mnist_scale/17', 'mnist_scale/18', 'mnist_scale/19', 'mountain_car/0', 'mountain_car/1', 'mountain_car/2', 'mountain_car/3', 'mountain_car/4', 'mountain_car/5', 'mountain_car/6', 'mountain_car/7', 'mountain_car/8', 'mountain_car/9', 'mountain_car/10', 'mountain_car/11', 'mountain_car/12', 'mountain_car/13', 'mountain_car/14', 'mountain_car/15', 'mountain_car/16', 'mountain_car/17', 'mountain_car/18', 'mountain_car/19', 'mountain_car_noise/0', 'mountain_car_noise/1', 'mountain_car_noise/2', 'mountain_car_noise/3', 'mountain_car_noise/4', 'mountain_car_noise/5', 'mountain_car_noise/6', 'mountain_car_noise/7', 'mountain_car_noise/8', 'mountain_car_noise/9', 'mountain_car_noise/10', 'mountain_car_noise/11', 'mountain_car_noise/12', 'mountain_car_noise/13', 'mountain_car_noise/14', 'mountain_car_noise/15', 'mountain_car_noise/16', 'mountain_car_noise/17', 'mountain_car_noise/18', 'mountain_car_noise/19', 'mountain_car_scale/0', 'mountain_car_scale/1', 'mountain_car_scale/2', 'mountain_car_scale/3', 'mountain_car_scale/4', 'mountain_car_scale/5', 'mountain_car_scale/6', 'mountain_car_scale/7', 'mountain_car_scale/8', 'mountain_car_scale/9', 'mountain_car_scale/10', 'mountain_car_scale/11', 'mountain_car_scale/12', 'mountain_car_scale/13', 'mountain_car_scale/14', 'mountain_car_scale/15', 'mountain_car_scale/16', 'mountain_car_scale/17', 'mountain_car_scale/18', 'mountain_car_scale/19', 'umbrella_distract/0', 'umbrella_distract/1', 'umbrella_distract/2', 'umbrella_distract/3', 'umbrella_distract/4', 'umbrella_distract/5', 'umbrella_distract/6', 'umbrella_distract/7', 'umbrella_distract/8', 'umbrella_distract/9', 'umbrella_distract/10', 'umbrella_distract/11', 'umbrella_distract/12', 'umbrella_distract/13', 'umbrella_distract/14', 'umbrella_distract/15', 'umbrella_distract/16', 'umbrella_distract/17', 'umbrella_distract/18', 'umbrella_distract/19', 'umbrella_distract/20', 'umbrella_distract/21', 'umbrella_distract/22', 'umbrella_length/0', 'umbrella_length/1', 'umbrella_length/2', 'umbrella_length/3', 'umbrella_length/4', 'umbrella_length/5', 'umbrella_length/6', 'umbrella_length/7', 'umbrella_length/8', 'umbrella_length/9', 'umbrella_length/10', 'umbrella_length/11', 'umbrella_length/12', 'umbrella_length/13', 'umbrella_length/14', 'umbrella_length/15', 'umbrella_length/16', 'umbrella_length/17', 'umbrella_length/18', 'umbrella_length/19', 'umbrella_length/20', 'umbrella_length/21', 'umbrella_length/22')\n"
          ],
          "name": "stdout"
        }
      ]
    },
    {
      "cell_type": "markdown",
      "metadata": {
        "id": "S6wslZDodO_h",
        "colab_type": "text"
      },
      "source": [
        "## Exploring an example experiment\n",
        "\n",
        "<img src=\"https://storage.cloud.google.com/bsuite-colab-images/bandit.png\" alt=\"bandit diagram\" height=\"300\"/>\n",
        "\n",
        "One simple experiment in `bsuite` is called *bandit noise*.\n",
        "<br>\n",
        "This corresponds to a number of instantiations of a simple independent 11-armed bandit problem,<br>where the rewards for each arms are perturbed by white Gaussian noise $N(0, \\sigma^2)$.\n",
        "\n",
        "**Environments**:\n",
        "- The actions have rewards in [0.0, 0.1, .., 1.0] randomly assigned.\n",
        "- Run 4 seeds for each $\\sigma$ in [0.1, 0.3, 1., 3, 10]\n",
        "\n",
        "**Protocol**:\n",
        "- run each configuration for 10k episodes,\n",
        "\n",
        "\n",
        "**Analysis**:\n",
        "- Score is 1 - 2 * average_regret at 10k episodes.\n",
        "- Must log `episode`, `total_regret` for standard analysis."
      ]
    },
    {
      "cell_type": "code",
      "metadata": {
        "id": "Z3eYOII_btss",
        "colab_type": "code",
        "outputId": "007e37c4-06fd-4531-8867-eddceb3b24ce",
        "colab": {
          "base_uri": "https://localhost:8080/",
          "height": 51
        }
      },
      "source": [
        "#@title Ids for an example experiment:\n",
        "print('List bsuite_id for \"bandit_noise\" experiment:')\n",
        "print(sweep.BANDIT_NOISE)"
      ],
      "execution_count": 0,
      "outputs": [
        {
          "output_type": "stream",
          "text": [
            "List bsuite_id for \"bandit_noise\" experiment:\n",
            "('bandit_noise/0', 'bandit_noise/1', 'bandit_noise/2', 'bandit_noise/3', 'bandit_noise/4', 'bandit_noise/5', 'bandit_noise/6', 'bandit_noise/7', 'bandit_noise/8', 'bandit_noise/9', 'bandit_noise/10', 'bandit_noise/11', 'bandit_noise/12', 'bandit_noise/13', 'bandit_noise/14', 'bandit_noise/15', 'bandit_noise/16', 'bandit_noise/17', 'bandit_noise/18', 'bandit_noise/19')\n"
          ],
          "name": "stdout"
        }
      ]
    },
    {
      "cell_type": "code",
      "metadata": {
        "id": "8mtpqd4hibzl",
        "colab_type": "code",
        "outputId": "c417d913-a66f-41f9-8af5-90bf82b37790",
        "colab": {
          "base_uri": "https://localhost:8080/",
          "height": 357
        }
      },
      "source": [
        "#@title List the configurations for the given experiment\n",
        "for bsuite_id in sweep.BANDIT_NOISE:\n",
        "  env = bsuite.load_from_id(bsuite_id)\n",
        "  print('bsuite_id={}, settings={}, num_episodes={}'\n",
        "        .format(bsuite_id, sweep.SETTINGS[bsuite_id], env.bsuite_num_episodes))"
      ],
      "execution_count": 0,
      "outputs": [
        {
          "output_type": "stream",
          "text": [
            "bsuite_id=bandit_noise/0, settings={'noise_scale': 0.1, 'seed': 0}, num_episodes=10000\n",
            "bsuite_id=bandit_noise/1, settings={'noise_scale': 0.1, 'seed': 1}, num_episodes=10000\n",
            "bsuite_id=bandit_noise/2, settings={'noise_scale': 0.1, 'seed': 2}, num_episodes=10000\n",
            "bsuite_id=bandit_noise/3, settings={'noise_scale': 0.1, 'seed': 3}, num_episodes=10000\n",
            "bsuite_id=bandit_noise/4, settings={'noise_scale': 0.3, 'seed': 0}, num_episodes=10000\n",
            "bsuite_id=bandit_noise/5, settings={'noise_scale': 0.3, 'seed': 1}, num_episodes=10000\n",
            "bsuite_id=bandit_noise/6, settings={'noise_scale': 0.3, 'seed': 2}, num_episodes=10000\n",
            "bsuite_id=bandit_noise/7, settings={'noise_scale': 0.3, 'seed': 3}, num_episodes=10000\n",
            "bsuite_id=bandit_noise/8, settings={'noise_scale': 1.0, 'seed': 0}, num_episodes=10000\n",
            "bsuite_id=bandit_noise/9, settings={'noise_scale': 1.0, 'seed': 1}, num_episodes=10000\n",
            "bsuite_id=bandit_noise/10, settings={'noise_scale': 1.0, 'seed': 2}, num_episodes=10000\n",
            "bsuite_id=bandit_noise/11, settings={'noise_scale': 1.0, 'seed': 3}, num_episodes=10000\n",
            "bsuite_id=bandit_noise/12, settings={'noise_scale': 3.0, 'seed': 0}, num_episodes=10000\n",
            "bsuite_id=bandit_noise/13, settings={'noise_scale': 3.0, 'seed': 1}, num_episodes=10000\n",
            "bsuite_id=bandit_noise/14, settings={'noise_scale': 3.0, 'seed': 2}, num_episodes=10000\n",
            "bsuite_id=bandit_noise/15, settings={'noise_scale': 3.0, 'seed': 3}, num_episodes=10000\n",
            "bsuite_id=bandit_noise/16, settings={'noise_scale': 10.0, 'seed': 0}, num_episodes=10000\n",
            "bsuite_id=bandit_noise/17, settings={'noise_scale': 10.0, 'seed': 1}, num_episodes=10000\n",
            "bsuite_id=bandit_noise/18, settings={'noise_scale': 10.0, 'seed': 2}, num_episodes=10000\n",
            "bsuite_id=bandit_noise/19, settings={'noise_scale': 10.0, 'seed': 3}, num_episodes=10000\n"
          ],
          "name": "stdout"
        }
      ]
    },
    {
      "cell_type": "markdown",
      "metadata": {
        "id": "lFi_hA5q_ovn",
        "colab_type": "text"
      },
      "source": [
        "## Loading a `bsuite` environment\n",
        "\n",
        "For any of the values of `bsuite_id` in `sweep.SWEEP` we can instantiate the environment, with the appropriate configurations, using:\n"
      ]
    },
    {
      "cell_type": "code",
      "metadata": {
        "id": "H5CILXd9iMAY",
        "colab_type": "code",
        "colab": {}
      },
      "source": [
        "#@title Instantiate the environment corresponding to a given `bsuite_id`\n",
        "env = bsuite.load_from_id(\"bandit_noise/0\")"
      ],
      "execution_count": 0,
      "outputs": []
    },
    {
      "cell_type": "markdown",
      "metadata": {
        "id": "FUmMxRDIjYxX",
        "colab_type": "text"
      },
      "source": [
        "By default the environment implements the `dm_env` agent-environment interface:\n",
        "* the main interaction with an environment is via the `step()` method.\n",
        "* `step()` takes an discrete `action` index as input and returns a `TimeStep` namedtuple \n",
        "* `TimeStep` contains the fields `step_type`, `reward`, `discount`,  and `observation`.\n",
        "\n",
        "We refer the user to the `dm_env`'s [github](https://github.com/deepmind/dm_env/blob/master/docs/index.md) for further details on the API."
      ]
    },
    {
      "cell_type": "code",
      "metadata": {
        "id": "rKxM9KBUizH0",
        "colab_type": "code",
        "outputId": "c487c7a8-4f17-4c8c-fece-29cd0da607f1",
        "colab": {
          "base_uri": "https://localhost:8080/",
          "height": 34
        }
      },
      "source": [
        "#@title Default configuration is dm_env\n",
        "import dm_env\n",
        "env = bsuite.load_from_id(bsuite_id='bandit_noise/0')\n",
        "isinstance(env, dm_env.Environment)"
      ],
      "execution_count": 0,
      "outputs": [
        {
          "output_type": "execute_result",
          "data": {
            "text/plain": [
              "True"
            ]
          },
          "metadata": {
            "tags": []
          },
          "execution_count": 7
        }
      ]
    },
    {
      "cell_type": "markdown",
      "metadata": {
        "id": "lpdc4Xxki4pH",
        "colab_type": "text"
      },
      "source": [
        "Alternatively the environments may also be made to implement the OpenAI [gym](https://github.com/openai/gym) agent-environment interface. <br>This is done using a lightweight wrapper defined in `bsuite/utils`"
      ]
    },
    {
      "cell_type": "code",
      "metadata": {
        "id": "B_kJsGrUjQ-P",
        "colab_type": "code",
        "colab": {}
      },
      "source": [
        "#@title Installing OpenAI gym\n",
        "! pip install -q gym\n",
        "import gym"
      ],
      "execution_count": 0,
      "outputs": []
    },
    {
      "cell_type": "code",
      "metadata": {
        "id": "oEEw7RR4jTk_",
        "colab_type": "code",
        "outputId": "da665be5-2b6c-4070-a6e2-2da92cb24bc2",
        "colab": {
          "base_uri": "https://localhost:8080/",
          "height": 34
        }
      },
      "source": [
        "#@title Simple to load bsuite environments as OpenAI gym\n",
        "from bsuite.utils import gym_wrapper\n",
        "raw_env = bsuite.load_from_id(bsuite_id='memory_len/0')\n",
        "env = gym_wrapper.GymWrapper(raw_env)\n",
        "isinstance(env, gym.Env)"
      ],
      "execution_count": 0,
      "outputs": [
        {
          "output_type": "execute_result",
          "data": {
            "text/plain": [
              "True"
            ]
          },
          "metadata": {
            "tags": []
          },
          "execution_count": 9
        }
      ]
    },
    {
      "cell_type": "markdown",
      "metadata": {
        "id": "y9h5KtRDD6rM",
        "colab_type": "text"
      },
      "source": [
        "## Running a `bsuite` experiment\n",
        "\n",
        "Once you have loaded a `bsuite` environment, you just need to interact with that environment for the correct number of episodes.\n",
        "\n",
        "Since `bsuite` experiments only measure the *behaviour* of the agent, we can handle all logging required to analyse the experiments within the `bsuite` environment .\n",
        "\n",
        "If you want to record the data from the experiment, you should specify `load_and_record`. By default this will generate a csv file indexed by bsuite_id."
      ]
    },
    {
      "cell_type": "code",
      "metadata": {
        "id": "Jgh7KEYRFoDx",
        "colab_type": "code",
        "outputId": "b4ec8f34-bdb5-410e-f8fc-54549059f015",
        "colab": {
          "base_uri": "https://localhost:8080/",
          "height": 34
        }
      },
      "source": [
        "#@title Running a random agent with a bsuite environment:\n",
        "import numpy as np\n",
        "SAVE_PATH_RAND = '/tmp/bsuite/rand'\n",
        "env = bsuite.load_and_record('bandit_noise/0', save_path=SAVE_PATH_RAND)\n",
        "\n",
        "for episode in range(env.bsuite_num_episodes):\n",
        "  timestep = env.reset()\n",
        "  while not timestep.last():\n",
        "    action = np.random.choice(env.action_spec().num_values)\n",
        "    timestep = env.step(action)"
      ],
      "execution_count": 0,
      "outputs": [
        {
          "output_type": "stream",
          "text": [
            "\u001b[1m\u001b[33mLogging results to CSV file for each bsuite_id in /tmp/bsuite/rand.\u001b[0m\n"
          ],
          "name": "stdout"
        }
      ]
    },
    {
      "cell_type": "code",
      "metadata": {
        "id": "S1Q9XKFnGZy_",
        "colab_type": "code",
        "outputId": "2bde2c57-d969-4792-8c83-0f4ee16b11ee",
        "colab": {
          "base_uri": "https://localhost:8080/",
          "height": 867
        }
      },
      "source": [
        "#@title You can see the data that is logged to csv\n",
        "!cat /tmp/bsuite/rand/bsuite_id_-_bandit_noise-0.csv"
      ],
      "execution_count": 0,
      "outputs": [
        {
          "output_type": "stream",
          "text": [
            "episode,episode_len,episode_return,steps,total_regret,total_return\n",
            "1,1,1.1764052345967664,1,0.0,1.1764052345967664\n",
            "2,1,0.5400157208367223,2,0.5,1.7164209554334886\n",
            "3,1,0.9978737984105739,3,0.6,2.7142947538440625\n",
            "4,1,0.9240893199201459,4,0.8999999999999999,3.6383840737642084\n",
            "5,1,0.3867557990149968,5,1.7,4.025139872779205\n",
            "6,1,0.9022722120123589,6,1.7,4.9274120847915635\n",
            "7,1,0.895008841752559,7,1.9,5.8224209265441225\n",
            "8,1,-0.01513572082976979,8,2.9,5.8072852057143525\n",
            "9,1,0.38967811482064424,9,3.5,6.196963320534997\n",
            "10,1,0.5410598501938373,10,4.0,6.738023170728834\n",
            "12,1,0.4454273506962976,12,5.1000000000000005,7.797854878541219\n",
            "14,1,1.0121675016492828,14,5.300000000000001,9.686126152705203\n",
            "17,1,0.14940790731576062,17,7.4,10.813287816032933\n",
            "20,1,0.6145904260698276,20,8.600000000000001,12.53866918589127\n",
            "25,1,1.0269754623987608,25,10.800000000000002,15.387934644095967\n",
            "30,1,1.1469358769900284,30,13.400000000000002,17.928569341789526\n",
            "40,1,0.5697697249424666,40,17.400000000000002,23.850169892864702\n",
            "50,1,0.07872597197860313,50,24.400000000000002,26.30279636156549\n",
            "60,1,0.9637258834012862,60,29.300000000000004,31.160003773327578\n",
            "70,1,0.9051945395796139,70,34.099999999999994,35.77814713856012\n",
            "80,1,0.10561653422297455,80,41.79999999999998,37.955661726911906\n",
            "90,1,0.6054451726931137,90,46.49999999999998,43.55884078793372\n",
            "100,1,1.0401989363444701,100,50.39999999999998,50.198080155344826\n",
            "120,1,0.8922206671566527,120,58.89999999999998,62.691340953347044\n",
            "140,1,0.5906938491269494,140,68.99999999999997,72.73033782108865\n",
            "170,1,0.431694261192485,170,83.69999999999996,88.06283212914244\n",
            "200,1,0.6336527949436392,200,96.59999999999992,104.81820986282322\n",
            "250,1,0.8533575672197486,250,117.89999999999992,132.8945174465962\n",
            "300,1,0.637005588784752,300,143.89999999999998,156.92588725722672\n",
            "400,1,0.38525519394612323,400,197.29999999999987,201.55792019176772\n",
            "500,1,0.692214524405915,500,247.29999999999984,251.4322780333785\n",
            "600,1,0.5821410907912672,600,292.99999999999966,303.7029682344791\n",
            "700,1,0.6081935218477266,700,338.5999999999997,356.75347193284415\n",
            "800,1,-0.0829964597537962,800,391.49999999999966,402.6174790976157\n",
            "900,1,0.8595967706149064,900,442.49999999999943,451.33548778006184\n",
            "1000,1,0.36418859245201435,1000,495.19999999999976,500.2743292509799\n",
            "1200,1,0.5589703605574724,1200,594.1999999999999,603.1958840083677\n",
            "1400,1,0.057867241267531955,1400,698.0,699.4055572260946\n",
            "1700,1,0.7626564250745361,1700,849.2000000000002,848.9654196310378\n",
            "2000,1,0.2689029629558788,2000,999.2999999999995,997.5360232825963\n",
            "2500,1,0.402583256495701,2500,1242.699999999999,1252.6663397440814\n",
            "3000,1,0.3919401483849875,3000,1501.299999999999,1490.4131669160354\n",
            "4000,1,0.918719789916111,4000,2006.8999999999983,1982.9189072563304\n",
            "5000,1,1.0414405876716974,5000,2517.8000000000075,2474.8369764871113\n",
            "6000,1,0.7286518270487491,6000,3033.2999999999993,2957.4316495078924\n",
            "7000,1,-0.09010717929767613,7000,3523.7999999999984,3468.4631086244963\n",
            "8000,1,0.20708145206813214,8000,4035.6999999999957,3953.4951731982073\n",
            "9000,1,0.8684116340470772,9000,4520.599999999996,4463.414917646574\n",
            "10000,1,0.8298111432030516,10000,5023.7,4957.86627984174\n"
          ],
          "name": "stdout"
        }
      ]
    },
    {
      "cell_type": "code",
      "metadata": {
        "id": "VAniX2o4HBYx",
        "colab_type": "code",
        "outputId": "e6c70ec7-c936-4c9f-d3e3-be9b59ba95a8",
        "colab": {
          "base_uri": "https://localhost:8080/",
          "height": 357
        }
      },
      "source": [
        "#@title To run the whole experiment, simply repeat for all bsuite_id\n",
        "def run_random_agent(bsuite_id, save_path=SAVE_PATH_RAND, overwrite=True):\n",
        "  \"\"\"Evaluates a random agent experiment on a single bsuite_id.\"\"\"\n",
        "  env = bsuite.load_and_record(bsuite_id, save_path, overwrite=overwrite)\n",
        "  for episode in range(env.bsuite_num_episodes):\n",
        "    timestep = env.reset()\n",
        "    while not timestep.last():\n",
        "      action = np.random.choice(env.action_spec().num_values)\n",
        "      timestep = env.step(action)\n",
        "  return\n",
        "\n",
        "for bsuite_id in sweep.BANDIT_NOISE:\n",
        "  run_random_agent(bsuite_id)"
      ],
      "execution_count": 0,
      "outputs": [
        {
          "output_type": "stream",
          "text": [
            "\u001b[1m\u001b[33mLogging results to CSV file for each bsuite_id in /tmp/bsuite/rand.\u001b[0m\n",
            "\u001b[1m\u001b[33mLogging results to CSV file for each bsuite_id in /tmp/bsuite/rand.\u001b[0m\n",
            "\u001b[1m\u001b[33mLogging results to CSV file for each bsuite_id in /tmp/bsuite/rand.\u001b[0m\n",
            "\u001b[1m\u001b[33mLogging results to CSV file for each bsuite_id in /tmp/bsuite/rand.\u001b[0m\n",
            "\u001b[1m\u001b[33mLogging results to CSV file for each bsuite_id in /tmp/bsuite/rand.\u001b[0m\n",
            "\u001b[1m\u001b[33mLogging results to CSV file for each bsuite_id in /tmp/bsuite/rand.\u001b[0m\n",
            "\u001b[1m\u001b[33mLogging results to CSV file for each bsuite_id in /tmp/bsuite/rand.\u001b[0m\n",
            "\u001b[1m\u001b[33mLogging results to CSV file for each bsuite_id in /tmp/bsuite/rand.\u001b[0m\n",
            "\u001b[1m\u001b[33mLogging results to CSV file for each bsuite_id in /tmp/bsuite/rand.\u001b[0m\n",
            "\u001b[1m\u001b[33mLogging results to CSV file for each bsuite_id in /tmp/bsuite/rand.\u001b[0m\n",
            "\u001b[1m\u001b[33mLogging results to CSV file for each bsuite_id in /tmp/bsuite/rand.\u001b[0m\n",
            "\u001b[1m\u001b[33mLogging results to CSV file for each bsuite_id in /tmp/bsuite/rand.\u001b[0m\n",
            "\u001b[1m\u001b[33mLogging results to CSV file for each bsuite_id in /tmp/bsuite/rand.\u001b[0m\n",
            "\u001b[1m\u001b[33mLogging results to CSV file for each bsuite_id in /tmp/bsuite/rand.\u001b[0m\n",
            "\u001b[1m\u001b[33mLogging results to CSV file for each bsuite_id in /tmp/bsuite/rand.\u001b[0m\n",
            "\u001b[1m\u001b[33mLogging results to CSV file for each bsuite_id in /tmp/bsuite/rand.\u001b[0m\n",
            "\u001b[1m\u001b[33mLogging results to CSV file for each bsuite_id in /tmp/bsuite/rand.\u001b[0m\n",
            "\u001b[1m\u001b[33mLogging results to CSV file for each bsuite_id in /tmp/bsuite/rand.\u001b[0m\n",
            "\u001b[1m\u001b[33mLogging results to CSV file for each bsuite_id in /tmp/bsuite/rand.\u001b[0m\n",
            "\u001b[1m\u001b[33mLogging results to CSV file for each bsuite_id in /tmp/bsuite/rand.\u001b[0m\n"
          ],
          "name": "stdout"
        }
      ]
    },
    {
      "cell_type": "markdown",
      "metadata": {
        "id": "KCjBJzSEIyEw",
        "colab_type": "text"
      },
      "source": [
        "## Loading bsuite results\n",
        "\n",
        "We have now run a random agent across a simple bsuite experiment.\n",
        "\n",
        "In order to make use of the standard analysis [notebook](linktonotebook.com) you just need to point to the saved data."
      ]
    },
    {
      "cell_type": "code",
      "metadata": {
        "id": "3O6-IovoJGTy",
        "colab_type": "code",
        "colab": {}
      },
      "source": [
        "#@title We have logged results as CSV files in SAVE_PATH\n",
        "from bsuite.logging import csv_load\n",
        "DF, _ = csv_load.load_bsuite(SAVE_PATH_RAND)"
      ],
      "execution_count": 0,
      "outputs": []
    },
    {
      "cell_type": "code",
      "metadata": {
        "id": "sRhDMmLsJ5tM",
        "colab_type": "code",
        "outputId": "3e12fc71-f4b7-4146-ec0f-d279ef9207e1",
        "colab": {
          "base_uri": "https://localhost:8080/",
          "height": 194
        }
      },
      "source": [
        "#@title The bsuite data is now collated and processed in DF\n",
        "DF.head()"
      ],
      "execution_count": 0,
      "outputs": [
        {
          "output_type": "execute_result",
          "data": {
            "application/vnd.google.colaboratory.module+javascript": "\n      import \"https://ssl.gstatic.com/colaboratory/data_table/a036b366c3cace79/data_table.js\";\n\n      window.createDataTable({\n        data: [[{\n            'v': 0,\n            'f': \"0\",\n        },\n{\n            'v': 1,\n            'f': \"1\",\n        },\n{\n            'v': 1,\n            'f': \"1\",\n        },\n{\n            'v': 0.8624345363663243,\n            'f': \"0.8624345363663243\",\n        },\n{\n            'v': 1,\n            'f': \"1\",\n        },\n{\n            'v': 0.29999999999999993,\n            'f': \"0.29999999999999993\",\n        },\n{\n            'v': 0.8624345363663243,\n            'f': \"0.8624345363663243\",\n        },\n\"bandit_noise/1\",\n\"/tmp/bsuite/rand\",\n\"bandit_noise\",\n{\n            'v': NaN,\n            'f': \"NaN\",\n        },\n{\n            'v': NaN,\n            'f': \"NaN\",\n        },\n{\n            'v': NaN,\n            'f': \"NaN\",\n        },\n{\n            'v': NaN,\n            'f': \"NaN\",\n        },\n{\n            'v': 0.1,\n            'f': \"0.1\",\n        },\n{\n            'v': NaN,\n            'f': \"NaN\",\n        },\n{\n            'v': NaN,\n            'f': \"NaN\",\n        },\n{\n            'v': 1.0,\n            'f': \"1.0\",\n        },\n{\n            'v': NaN,\n            'f': \"NaN\",\n        },\n{\n            'v': NaN,\n            'f': \"NaN\",\n        },\n\"/tmp/bsuite/rand\"],\n [{\n            'v': 1,\n            'f': \"1\",\n        },\n{\n            'v': 2,\n            'f': \"2\",\n        },\n{\n            'v': 1,\n            'f': \"1\",\n        },\n{\n            'v': 0.13882435863499248,\n            'f': \"0.13882435863499248\",\n        },\n{\n            'v': 2,\n            'f': \"2\",\n        },\n{\n            'v': 1.1,\n            'f': \"1.1\",\n        },\n{\n            'v': 1.0012588950013168,\n            'f': \"1.0012588950013168\",\n        },\n\"bandit_noise/1\",\n\"/tmp/bsuite/rand\",\n\"bandit_noise\",\n{\n            'v': NaN,\n            'f': \"NaN\",\n        },\n{\n            'v': NaN,\n            'f': \"NaN\",\n        },\n{\n            'v': NaN,\n            'f': \"NaN\",\n        },\n{\n            'v': NaN,\n            'f': \"NaN\",\n        },\n{\n            'v': 0.1,\n            'f': \"0.1\",\n        },\n{\n            'v': NaN,\n            'f': \"NaN\",\n        },\n{\n            'v': NaN,\n            'f': \"NaN\",\n        },\n{\n            'v': 1.0,\n            'f': \"1.0\",\n        },\n{\n            'v': NaN,\n            'f': \"NaN\",\n        },\n{\n            'v': NaN,\n            'f': \"NaN\",\n        },\n\"/tmp/bsuite/rand\"],\n [{\n            'v': 2,\n            'f': \"2\",\n        },\n{\n            'v': 3,\n            'f': \"3\",\n        },\n{\n            'v': 1,\n            'f': \"1\",\n        },\n{\n            'v': 0.4471828247736545,\n            'f': \"0.4471828247736545\",\n        },\n{\n            'v': 3,\n            'f': \"3\",\n        },\n{\n            'v': 1.6,\n            'f': \"1.6\",\n        },\n{\n            'v': 1.4484417197749713,\n            'f': \"1.4484417197749713\",\n        },\n\"bandit_noise/1\",\n\"/tmp/bsuite/rand\",\n\"bandit_noise\",\n{\n            'v': NaN,\n            'f': \"NaN\",\n        },\n{\n            'v': NaN,\n            'f': \"NaN\",\n        },\n{\n            'v': NaN,\n            'f': \"NaN\",\n        },\n{\n            'v': NaN,\n            'f': \"NaN\",\n        },\n{\n            'v': 0.1,\n            'f': \"0.1\",\n        },\n{\n            'v': NaN,\n            'f': \"NaN\",\n        },\n{\n            'v': NaN,\n            'f': \"NaN\",\n        },\n{\n            'v': 1.0,\n            'f': \"1.0\",\n        },\n{\n            'v': NaN,\n            'f': \"NaN\",\n        },\n{\n            'v': NaN,\n            'f': \"NaN\",\n        },\n\"/tmp/bsuite/rand\"],\n [{\n            'v': 3,\n            'f': \"3\",\n        },\n{\n            'v': 4,\n            'f': \"4\",\n        },\n{\n            'v': 1,\n            'f': \"1\",\n        },\n{\n            'v': 0.2927031377843829,\n            'f': \"0.2927031377843829\",\n        },\n{\n            'v': 4,\n            'f': \"4\",\n        },\n{\n            'v': 2.2,\n            'f': \"2.2\",\n        },\n{\n            'v': 1.7411448575593542,\n            'f': \"1.7411448575593542\",\n        },\n\"bandit_noise/1\",\n\"/tmp/bsuite/rand\",\n\"bandit_noise\",\n{\n            'v': NaN,\n            'f': \"NaN\",\n        },\n{\n            'v': NaN,\n            'f': \"NaN\",\n        },\n{\n            'v': NaN,\n            'f': \"NaN\",\n        },\n{\n            'v': NaN,\n            'f': \"NaN\",\n        },\n{\n            'v': 0.1,\n            'f': \"0.1\",\n        },\n{\n            'v': NaN,\n            'f': \"NaN\",\n        },\n{\n            'v': NaN,\n            'f': \"NaN\",\n        },\n{\n            'v': 1.0,\n            'f': \"1.0\",\n        },\n{\n            'v': NaN,\n            'f': \"NaN\",\n        },\n{\n            'v': NaN,\n            'f': \"NaN\",\n        },\n\"/tmp/bsuite/rand\"],\n [{\n            'v': 4,\n            'f': \"4\",\n        },\n{\n            'v': 5,\n            'f': \"5\",\n        },\n{\n            'v': 1,\n            'f': \"1\",\n        },\n{\n            'v': 0.5865407629324678,\n            'f': \"0.5865407629324678\",\n        },\n{\n            'v': 5,\n            'f': \"5\",\n        },\n{\n            'v': 2.7,\n            'f': \"2.7\",\n        },\n{\n            'v': 2.3276856204918217,\n            'f': \"2.3276856204918217\",\n        },\n\"bandit_noise/1\",\n\"/tmp/bsuite/rand\",\n\"bandit_noise\",\n{\n            'v': NaN,\n            'f': \"NaN\",\n        },\n{\n            'v': NaN,\n            'f': \"NaN\",\n        },\n{\n            'v': NaN,\n            'f': \"NaN\",\n        },\n{\n            'v': NaN,\n            'f': \"NaN\",\n        },\n{\n            'v': 0.1,\n            'f': \"0.1\",\n        },\n{\n            'v': NaN,\n            'f': \"NaN\",\n        },\n{\n            'v': NaN,\n            'f': \"NaN\",\n        },\n{\n            'v': 1.0,\n            'f': \"1.0\",\n        },\n{\n            'v': NaN,\n            'f': \"NaN\",\n        },\n{\n            'v': NaN,\n            'f': \"NaN\",\n        },\n\"/tmp/bsuite/rand\"]],\n        columns: [[\"number\", \"index\"], [\"number\", \"episode\"], [\"number\", \"episode_len\"], [\"number\", \"episode_return\"], [\"number\", \"steps\"], [\"number\", \"total_regret\"], [\"number\", \"total_return\"], [\"string\", \"bsuite_id\"], [\"string\", \"results_dir\"], [\"string\", \"bsuite_env\"], [\"number\", \"chain_length\"], [\"number\", \"height_threshold\"], [\"number\", \"memory_length\"], [\"number\", \"n_distractor\"], [\"number\", \"noise_scale\"], [\"number\", \"num_bits\"], [\"number\", \"reward_scale\"], [\"number\", \"seed\"], [\"number\", \"size\"], [\"number\", \"x_reward_threshold\"], [\"string\", \"agent_name\"]],\n        rowsPerPage: 25,\n        helpUrl: \"https://colab.research.google.com/notebooks/data_table.ipynb\",\n      });\n    ",
            "text/html": [
              "<div>\n",
              "<style scoped>\n",
              "    .dataframe tbody tr th:only-of-type {\n",
              "        vertical-align: middle;\n",
              "    }\n",
              "\n",
              "    .dataframe tbody tr th {\n",
              "        vertical-align: top;\n",
              "    }\n",
              "\n",
              "    .dataframe thead th {\n",
              "        text-align: right;\n",
              "    }\n",
              "</style>\n",
              "<table border=\"1\" class=\"dataframe\">\n",
              "  <thead>\n",
              "    <tr style=\"text-align: right;\">\n",
              "      <th></th>\n",
              "      <th>episode</th>\n",
              "      <th>episode_len</th>\n",
              "      <th>episode_return</th>\n",
              "      <th>steps</th>\n",
              "      <th>total_regret</th>\n",
              "      <th>total_return</th>\n",
              "      <th>bsuite_id</th>\n",
              "      <th>results_dir</th>\n",
              "      <th>bsuite_env</th>\n",
              "      <th>chain_length</th>\n",
              "      <th>height_threshold</th>\n",
              "      <th>memory_length</th>\n",
              "      <th>n_distractor</th>\n",
              "      <th>noise_scale</th>\n",
              "      <th>num_bits</th>\n",
              "      <th>reward_scale</th>\n",
              "      <th>seed</th>\n",
              "      <th>size</th>\n",
              "      <th>x_reward_threshold</th>\n",
              "      <th>agent_name</th>\n",
              "    </tr>\n",
              "  </thead>\n",
              "  <tbody>\n",
              "    <tr>\n",
              "      <th>0</th>\n",
              "      <td>1</td>\n",
              "      <td>1</td>\n",
              "      <td>0.862435</td>\n",
              "      <td>1</td>\n",
              "      <td>0.3</td>\n",
              "      <td>0.862435</td>\n",
              "      <td>bandit_noise/1</td>\n",
              "      <td>/tmp/bsuite/rand</td>\n",
              "      <td>bandit_noise</td>\n",
              "      <td>NaN</td>\n",
              "      <td>NaN</td>\n",
              "      <td>NaN</td>\n",
              "      <td>NaN</td>\n",
              "      <td>0.1</td>\n",
              "      <td>NaN</td>\n",
              "      <td>NaN</td>\n",
              "      <td>1.0</td>\n",
              "      <td>NaN</td>\n",
              "      <td>NaN</td>\n",
              "      <td>/tmp/bsuite/rand</td>\n",
              "    </tr>\n",
              "    <tr>\n",
              "      <th>1</th>\n",
              "      <td>2</td>\n",
              "      <td>1</td>\n",
              "      <td>0.138824</td>\n",
              "      <td>2</td>\n",
              "      <td>1.1</td>\n",
              "      <td>1.001259</td>\n",
              "      <td>bandit_noise/1</td>\n",
              "      <td>/tmp/bsuite/rand</td>\n",
              "      <td>bandit_noise</td>\n",
              "      <td>NaN</td>\n",
              "      <td>NaN</td>\n",
              "      <td>NaN</td>\n",
              "      <td>NaN</td>\n",
              "      <td>0.1</td>\n",
              "      <td>NaN</td>\n",
              "      <td>NaN</td>\n",
              "      <td>1.0</td>\n",
              "      <td>NaN</td>\n",
              "      <td>NaN</td>\n",
              "      <td>/tmp/bsuite/rand</td>\n",
              "    </tr>\n",
              "    <tr>\n",
              "      <th>2</th>\n",
              "      <td>3</td>\n",
              "      <td>1</td>\n",
              "      <td>0.447183</td>\n",
              "      <td>3</td>\n",
              "      <td>1.6</td>\n",
              "      <td>1.448442</td>\n",
              "      <td>bandit_noise/1</td>\n",
              "      <td>/tmp/bsuite/rand</td>\n",
              "      <td>bandit_noise</td>\n",
              "      <td>NaN</td>\n",
              "      <td>NaN</td>\n",
              "      <td>NaN</td>\n",
              "      <td>NaN</td>\n",
              "      <td>0.1</td>\n",
              "      <td>NaN</td>\n",
              "      <td>NaN</td>\n",
              "      <td>1.0</td>\n",
              "      <td>NaN</td>\n",
              "      <td>NaN</td>\n",
              "      <td>/tmp/bsuite/rand</td>\n",
              "    </tr>\n",
              "    <tr>\n",
              "      <th>3</th>\n",
              "      <td>4</td>\n",
              "      <td>1</td>\n",
              "      <td>0.292703</td>\n",
              "      <td>4</td>\n",
              "      <td>2.2</td>\n",
              "      <td>1.741145</td>\n",
              "      <td>bandit_noise/1</td>\n",
              "      <td>/tmp/bsuite/rand</td>\n",
              "      <td>bandit_noise</td>\n",
              "      <td>NaN</td>\n",
              "      <td>NaN</td>\n",
              "      <td>NaN</td>\n",
              "      <td>NaN</td>\n",
              "      <td>0.1</td>\n",
              "      <td>NaN</td>\n",
              "      <td>NaN</td>\n",
              "      <td>1.0</td>\n",
              "      <td>NaN</td>\n",
              "      <td>NaN</td>\n",
              "      <td>/tmp/bsuite/rand</td>\n",
              "    </tr>\n",
              "    <tr>\n",
              "      <th>4</th>\n",
              "      <td>5</td>\n",
              "      <td>1</td>\n",
              "      <td>0.586541</td>\n",
              "      <td>5</td>\n",
              "      <td>2.7</td>\n",
              "      <td>2.327686</td>\n",
              "      <td>bandit_noise/1</td>\n",
              "      <td>/tmp/bsuite/rand</td>\n",
              "      <td>bandit_noise</td>\n",
              "      <td>NaN</td>\n",
              "      <td>NaN</td>\n",
              "      <td>NaN</td>\n",
              "      <td>NaN</td>\n",
              "      <td>0.1</td>\n",
              "      <td>NaN</td>\n",
              "      <td>NaN</td>\n",
              "      <td>1.0</td>\n",
              "      <td>NaN</td>\n",
              "      <td>NaN</td>\n",
              "      <td>/tmp/bsuite/rand</td>\n",
              "    </tr>\n",
              "  </tbody>\n",
              "</table>\n",
              "</div>"
            ],
            "text/plain": [
              "   episode  episode_len  ...  x_reward_threshold        agent_name\n",
              "0        1            1  ...                 NaN  /tmp/bsuite/rand\n",
              "1        2            1  ...                 NaN  /tmp/bsuite/rand\n",
              "2        3            1  ...                 NaN  /tmp/bsuite/rand\n",
              "3        4            1  ...                 NaN  /tmp/bsuite/rand\n",
              "4        5            1  ...                 NaN  /tmp/bsuite/rand\n",
              "\n",
              "[5 rows x 20 columns]"
            ]
          },
          "metadata": {
            "tags": []
          },
          "execution_count": 14
        }
      ]
    },
    {
      "cell_type": "code",
      "metadata": {
        "id": "j8UWOXK9J_tQ",
        "colab_type": "code",
        "outputId": "83d216f9-96d7-4350-84e8-b62bc4dc5049",
        "colab": {
          "base_uri": "https://localhost:8080/",
          "height": 110
        }
      },
      "source": [
        "#@title We can make use of bsuite summary scoring... and the random agent scores essentially zero\n",
        "from bsuite.experiments import summary_analysis\n",
        "BSUITE_SCORE = summary_analysis.bsuite_score(DF)\n",
        "BSUITE_SCORE"
      ],
      "execution_count": 0,
      "outputs": [
        {
          "output_type": "execute_result",
          "data": {
            "application/vnd.google.colaboratory.module+javascript": "\n      import \"https://ssl.gstatic.com/colaboratory/data_table/a036b366c3cace79/data_table.js\";\n\n      window.createDataTable({\n        data: [[{\n            'v': 0,\n            'f': \"0\",\n        },\n\"bandit_noise\",\ntrue,\n{\n            'v': 0.0006819999999997273,\n            'f': \"0.0006819999999997273\",\n        },\n\"('noise',)\",\n\"noise\"]],\n        columns: [[\"number\", \"index\"], [\"string\", \"bsuite_env\"], [\"string\", \"finished\"], [\"number\", \"score\"], [\"string\", \"tags\"], [\"string\", \"type\"]],\n        rowsPerPage: 25,\n        helpUrl: \"https://colab.research.google.com/notebooks/data_table.ipynb\",\n      });\n    ",
            "text/html": [
              "<div>\n",
              "<style scoped>\n",
              "    .dataframe tbody tr th:only-of-type {\n",
              "        vertical-align: middle;\n",
              "    }\n",
              "\n",
              "    .dataframe tbody tr th {\n",
              "        vertical-align: top;\n",
              "    }\n",
              "\n",
              "    .dataframe thead th {\n",
              "        text-align: right;\n",
              "    }\n",
              "</style>\n",
              "<table border=\"1\" class=\"dataframe\">\n",
              "  <thead>\n",
              "    <tr style=\"text-align: right;\">\n",
              "      <th></th>\n",
              "      <th>bsuite_env</th>\n",
              "      <th>finished</th>\n",
              "      <th>score</th>\n",
              "      <th>tags</th>\n",
              "      <th>type</th>\n",
              "    </tr>\n",
              "  </thead>\n",
              "  <tbody>\n",
              "    <tr>\n",
              "      <th>0</th>\n",
              "      <td>bandit_noise</td>\n",
              "      <td>True</td>\n",
              "      <td>0.000682</td>\n",
              "      <td>('noise',)</td>\n",
              "      <td>noise</td>\n",
              "    </tr>\n",
              "  </tbody>\n",
              "</table>\n",
              "</div>"
            ],
            "text/plain": [
              "     bsuite_env  finished     score        tags   type\n",
              "0  bandit_noise      True  0.000682  ('noise',)  noise"
            ]
          },
          "metadata": {
            "tags": []
          },
          "execution_count": 15
        }
      ]
    },
    {
      "cell_type": "code",
      "metadata": {
        "id": "5ZFrgkRQLFrl",
        "colab_type": "code",
        "outputId": "554006f5-e5c9-4ecc-c247-0d1a0876ec24",
        "colab": {
          "base_uri": "https://localhost:8080/",
          "height": 661
        }
      },
      "source": [
        "#@title As well as plots specialized to the experiment\n",
        "bandit_noise_df = DF[DF.bsuite_env == 'bandit_noise'].copy()\n",
        "summary_analysis.plot_single_experiment(BSUITE_SCORE, 'bandit_noise')"
      ],
      "execution_count": 0,
      "outputs": [
        {
          "output_type": "stream",
          "text": [
            "tags=('noise',)\n"
          ],
          "name": "stdout"
        },
        {
          "output_type": "display_data",
          "data": {
            "image/png": "[encoded data removed]",
            "text/plain": [
              "<Figure size 300x600 with 1 Axes>"
            ]
          },
          "metadata": {
            "tags": []
          }
        },
        {
          "output_type": "execute_result",
          "data": {
            "text/plain": [
              "<ggplot: (8757295839657)>"
            ]
          },
          "metadata": {
            "tags": []
          },
          "execution_count": 16
        }
      ]
    },
    {
      "cell_type": "code",
      "metadata": {
        "id": "bb9FSksdMST1",
        "colab_type": "code",
        "outputId": "068a9034-cf97-461b-fff2-68b36a94d9ff",
        "colab": {
          "base_uri": "https://localhost:8080/",
          "height": 578
        }
      },
      "source": [
        "#@title average regret over learning (lower is better)\n",
        "from bsuite.experiments.bandit_noise import analysis as bandit_noise_analysis\n",
        "bandit_noise_analysis.plot_average(bandit_noise_df)"
      ],
      "execution_count": 0,
      "outputs": [
        {
          "output_type": "stream",
          "text": [
            "/usr/local/lib/python3.6/dist-packages/plotnine/layer.py:517: MatplotlibDeprecationWarning: isinstance(..., numbers.Number)\n",
            "  return not cbook.iterable(value) and (cbook.is_numlike(value) or\n"
          ],
          "name": "stderr"
        },
        {
          "output_type": "display_data",
          "data": {
            "image/png": "[encoded data removed]",
            "text/plain": [
              "<Figure size 700x500 with 1 Axes>"
            ]
          },
          "metadata": {
            "tags": []
          }
        },
        {
          "output_type": "execute_result",
          "data": {
            "text/plain": [
              "<ggplot: (-9223363279559656213)>"
            ]
          },
          "metadata": {
            "tags": []
          },
          "execution_count": 17
        }
      ]
    },
    {
      "cell_type": "markdown",
      "metadata": {
        "id": "5VyZ67IcISmm",
        "colab_type": "text"
      },
      "source": [
        "## Running a baseline agent\n",
        "\n",
        "So far we have only seen a very naive agent that doesn't perform any learning.\n",
        "\n",
        "As part of our open source effort, we also released a collection of implementations.\n",
        "\n",
        "In this section we will load a DQN agent, and then compare its performance against the random agent.\n"
      ]
    },
    {
      "cell_type": "code",
      "metadata": {
        "id": "sfCrefgVQcsF",
        "colab_type": "code",
        "outputId": "e03d94db-0737-4138-f770-13bf39983b31",
        "colab": {
          "base_uri": "https://localhost:8080/",
          "height": 102
        }
      },
      "source": [
        "#@title Installing requirements for the `bsuite` baselines agents\n",
        "! pip install -q tensorflow==1.13.2\n",
        "! pip install -q tensorflow-probability==0.6.0\n",
        "! pip install -q dm-sonnet\n",
        "! pip install -q trfl"
      ],
      "execution_count": 0,
      "outputs": [
        {
          "output_type": "stream",
          "text": [
            "\u001b[K     |████████████████████████████████| 92.6MB 36.9MB/s \n",
            "\u001b[K     |████████████████████████████████| 3.2MB 35.8MB/s \n",
            "\u001b[K     |████████████████████████████████| 368kB 33.6MB/s \n",
            "\u001b[K     |████████████████████████████████| 798kB 4.7MB/s \n",
            "\u001b[K     |████████████████████████████████| 81kB 5.2MB/s \n",
            "\u001b[?25h"
          ],
          "name": "stdout"
        }
      ]
    },
    {
      "cell_type": "code",
      "metadata": {
        "id": "Mu6wC2TdN1sf",
        "colab_type": "code",
        "outputId": "0dcec7f5-dc51-4aa9-a7df-97af5dd2f391",
        "colab": {
          "base_uri": "https://localhost:8080/",
          "height": 595
        }
      },
      "source": [
        "#@title Run the default `dqn` agent on the `memory_len` experiment\n",
        "from bsuite.baselines import experiment\n",
        "from bsuite.baselines.dqn import dqn\n",
        "\n",
        "SAVE_PATH_DQN = '/tmp/bsuite/dqn'\n",
        "for bsuite_id in sweep.BANDIT_NOISE:\n",
        "  env = bsuite.load_and_record(bsuite_id, save_path=SAVE_PATH_DQN)\n",
        "  agent = dqn.default_agent(\n",
        "      obs_spec=env.observation_spec(),\n",
        "      action_spec=env.action_spec()\n",
        "  )\n",
        "  experiment.run(agent, env, num_episodes=env.bsuite_num_episodes)"
      ],
      "execution_count": 0,
      "outputs": [
        {
          "output_type": "stream",
          "text": [
            "\n",
            "WARNING: The TensorFlow contrib module will not be included in TensorFlow 2.0.\n",
            "For more information, please see:\n",
            "  * https://github.com/tensorflow/community/blob/master/rfcs/20180907-contrib-sunset.md\n",
            "  * https://github.com/tensorflow/addons\n",
            "If you depend on functionality not listed there, please file an issue.\n",
            "\n",
            "\u001b[1m\u001b[33mLogging results to CSV file for each bsuite_id in /tmp/bsuite/dqn.\u001b[0m\n"
          ],
          "name": "stdout"
        },
        {
          "output_type": "stream",
          "text": [
            "WARNING: Logging before flag parsing goes to stderr.\n",
            "W0813 09:45:41.555912 140117806045056 deprecation.py:323] From /usr/local/lib/python3.6/dist-packages/tensorflow/python/framework/op_def_library.py:263: colocate_with (from tensorflow.python.framework.ops) is deprecated and will be removed in a future version.\n",
            "Instructions for updating:\n",
            "Colocations handled automatically by placer.\n",
            "W0813 09:45:41.709813 140117806045056 deprecation.py:323] From /usr/local/lib/python3.6/dist-packages/tensorflow/python/ops/math_ops.py:3066: to_int32 (from tensorflow.python.ops.math_ops) is deprecated and will be removed in a future version.\n",
            "Instructions for updating:\n",
            "Use tf.cast instead.\n"
          ],
          "name": "stderr"
        },
        {
          "output_type": "stream",
          "text": [
            "\u001b[1m\u001b[33mLogging results to CSV file for each bsuite_id in /tmp/bsuite/dqn.\u001b[0m\n",
            "\u001b[1m\u001b[33mLogging results to CSV file for each bsuite_id in /tmp/bsuite/dqn.\u001b[0m\n",
            "\u001b[1m\u001b[33mLogging results to CSV file for each bsuite_id in /tmp/bsuite/dqn.\u001b[0m\n",
            "\u001b[1m\u001b[33mLogging results to CSV file for each bsuite_id in /tmp/bsuite/dqn.\u001b[0m\n",
            "\u001b[1m\u001b[33mLogging results to CSV file for each bsuite_id in /tmp/bsuite/dqn.\u001b[0m\n",
            "\u001b[1m\u001b[33mLogging results to CSV file for each bsuite_id in /tmp/bsuite/dqn.\u001b[0m\n",
            "\u001b[1m\u001b[33mLogging results to CSV file for each bsuite_id in /tmp/bsuite/dqn.\u001b[0m\n",
            "\u001b[1m\u001b[33mLogging results to CSV file for each bsuite_id in /tmp/bsuite/dqn.\u001b[0m\n",
            "\u001b[1m\u001b[33mLogging results to CSV file for each bsuite_id in /tmp/bsuite/dqn.\u001b[0m\n",
            "\u001b[1m\u001b[33mLogging results to CSV file for each bsuite_id in /tmp/bsuite/dqn.\u001b[0m\n",
            "\u001b[1m\u001b[33mLogging results to CSV file for each bsuite_id in /tmp/bsuite/dqn.\u001b[0m\n",
            "\u001b[1m\u001b[33mLogging results to CSV file for each bsuite_id in /tmp/bsuite/dqn.\u001b[0m\n",
            "\u001b[1m\u001b[33mLogging results to CSV file for each bsuite_id in /tmp/bsuite/dqn.\u001b[0m\n",
            "\u001b[1m\u001b[33mLogging results to CSV file for each bsuite_id in /tmp/bsuite/dqn.\u001b[0m\n",
            "\u001b[1m\u001b[33mLogging results to CSV file for each bsuite_id in /tmp/bsuite/dqn.\u001b[0m\n",
            "\u001b[1m\u001b[33mLogging results to CSV file for each bsuite_id in /tmp/bsuite/dqn.\u001b[0m\n",
            "\u001b[1m\u001b[33mLogging results to CSV file for each bsuite_id in /tmp/bsuite/dqn.\u001b[0m\n",
            "\u001b[1m\u001b[33mLogging results to CSV file for each bsuite_id in /tmp/bsuite/dqn.\u001b[0m\n",
            "\u001b[1m\u001b[33mLogging results to CSV file for each bsuite_id in /tmp/bsuite/dqn.\u001b[0m\n"
          ],
          "name": "stdout"
        }
      ]
    },
    {
      "cell_type": "markdown",
      "metadata": {
        "id": "AM2uo3EGU2gM",
        "colab_type": "text"
      },
      "source": [
        "## Loading and comparing two agent runs\n",
        "\n",
        "To compare the performance of the DQN and random agents, we simply point the load at the two save paths."
      ]
    },
    {
      "cell_type": "code",
      "metadata": {
        "id": "XcyT0NdIU9XU",
        "colab_type": "code",
        "colab": {}
      },
      "source": [
        "#@title When loading multiple evaluations, `load_bsuite` automatically breaks them out by `SWEEP_VARS`\n",
        "experiments = {'dqn': SAVE_PATH_DQN, 'rand': SAVE_PATH_RAND}\n",
        "DF, SWEEP_VARS = csv_load.load_bsuite(experiments)"
      ],
      "execution_count": 0,
      "outputs": []
    },
    {
      "cell_type": "code",
      "metadata": {
        "id": "UFUrCj8YVTYG",
        "colab_type": "code",
        "outputId": "831d7e04-4630-411d-a503-847a53e72939",
        "colab": {
          "base_uri": "https://localhost:8080/"
        }
      },
      "source": [
        "#@title `SWEEP_VARS` is a list of columns that identify the separate agents\n",
        "for var in SWEEP_VARS:\n",
        "  print(var, DF[var].unique())"
      ],
      "execution_count": 0,
      "outputs": [
        {
          "output_type": "stream",
          "text": [
            "agent_name ['dqn' 'rand']\n"
          ],
          "name": "stdout"
        }
      ]
    },
    {
      "cell_type": "code",
      "metadata": {
        "id": "SWTrYSmWltnQ",
        "colab_type": "code",
        "cellView": "both",
        "outputId": "0940414d-d57a-4a21-9bf8-992238334d33",
        "colab": {
          "base_uri": "https://localhost:8080/"
        }
      },
      "source": [
        "#@title Passing `SWEEP_VARS` to `bsuite_score` automatically breaks out score by agent\n",
        "BSUITE_SCORE = summary_analysis.bsuite_score(DF, SWEEP_VARS)\n",
        "BSUITE_SCORE"
      ],
      "execution_count": 0,
      "outputs": [
        {
          "output_type": "execute_result",
          "data": {
            "application/vnd.google.colaboratory.module+javascript": "\n      import \"https://ssl.gstatic.com/colaboratory/data_table/a036b366c3cace79/data_table.js\";\n\n      window.createDataTable({\n        data: [[{\n            'v': 0,\n            'f': \"0\",\n        },\n\"dqn\",\n{\n            'v': 0,\n            'f': \"0\",\n        },\n\"bandit_noise\",\ntrue,\n{\n            'v': 0.7249902026679573,\n            'f': \"0.7249902026679573\",\n        },\n\"('noise',)\",\n\"noise\"],\n [{\n            'v': 1,\n            'f': \"1\",\n        },\n\"rand\",\n{\n            'v': 0,\n            'f': \"0\",\n        },\n\"bandit_noise\",\ntrue,\n{\n            'v': 0.0006819999999997273,\n            'f': \"0.0006819999999997273\",\n        },\n\"('noise',)\",\n\"noise\"]],\n        columns: [[\"number\", \"index\"], [\"string\", \"agent_name\"], [\"number\", \"level_1\"], [\"string\", \"bsuite_env\"], [\"string\", \"finished\"], [\"number\", \"score\"], [\"string\", \"tags\"], [\"string\", \"type\"]],\n        rowsPerPage: 25,\n        helpUrl: \"https://colab.research.google.com/notebooks/data_table.ipynb\",\n      });\n    ",
            "text/html": [
              "<div>\n",
              "<style scoped>\n",
              "    .dataframe tbody tr th:only-of-type {\n",
              "        vertical-align: middle;\n",
              "    }\n",
              "\n",
              "    .dataframe tbody tr th {\n",
              "        vertical-align: top;\n",
              "    }\n",
              "\n",
              "    .dataframe thead th {\n",
              "        text-align: right;\n",
              "    }\n",
              "</style>\n",
              "<table border=\"1\" class=\"dataframe\">\n",
              "  <thead>\n",
              "    <tr style=\"text-align: right;\">\n",
              "      <th></th>\n",
              "      <th>agent_name</th>\n",
              "      <th>level_1</th>\n",
              "      <th>bsuite_env</th>\n",
              "      <th>finished</th>\n",
              "      <th>score</th>\n",
              "      <th>tags</th>\n",
              "      <th>type</th>\n",
              "    </tr>\n",
              "  </thead>\n",
              "  <tbody>\n",
              "    <tr>\n",
              "      <th>0</th>\n",
              "      <td>dqn</td>\n",
              "      <td>0</td>\n",
              "      <td>bandit_noise</td>\n",
              "      <td>True</td>\n",
              "      <td>0.724990</td>\n",
              "      <td>('noise',)</td>\n",
              "      <td>noise</td>\n",
              "    </tr>\n",
              "    <tr>\n",
              "      <th>1</th>\n",
              "      <td>rand</td>\n",
              "      <td>0</td>\n",
              "      <td>bandit_noise</td>\n",
              "      <td>True</td>\n",
              "      <td>0.000682</td>\n",
              "      <td>('noise',)</td>\n",
              "      <td>noise</td>\n",
              "    </tr>\n",
              "  </tbody>\n",
              "</table>\n",
              "</div>"
            ],
            "text/plain": [
              "  agent_name  level_1    bsuite_env  finished     score        tags   type\n",
              "0        dqn        0  bandit_noise      True  0.724990  ('noise',)  noise\n",
              "1       rand        0  bandit_noise      True  0.000682  ('noise',)  noise"
            ]
          },
          "metadata": {
            "tags": []
          },
          "execution_count": 22
        }
      ]
    },
    {
      "cell_type": "code",
      "metadata": {
        "id": "d7_AGz47V2Bg",
        "colab_type": "code",
        "outputId": "25e50c94-9d7a-4fc0-bada-c851d62e3afa",
        "colab": {
          "base_uri": "https://localhost:8080/"
        }
      },
      "source": [
        "#@title All the `bsuite` plots will automatically compare performance on SWEEP_VARS\n",
        "BSUITE_SCORE = summary_analysis.bsuite_score(DF, SWEEP_VARS)\n",
        "bandit_noise_df = DF[DF.bsuite_env == 'bandit_noise'].copy()\n",
        "summary_analysis.plot_single_experiment(BSUITE_SCORE, 'bandit_noise', SWEEP_VARS)"
      ],
      "execution_count": 0,
      "outputs": [
        {
          "output_type": "stream",
          "text": [
            "tags=('noise',)\n"
          ],
          "name": "stdout"
        },
        {
          "output_type": "display_data",
          "data": {
            "image/png": "[encoded data removed]",
            "text/plain": [
              "<Figure size 400x600 with 1 Axes>"
            ]
          },
          "metadata": {
            "tags": []
          }
        },
        {
          "output_type": "execute_result",
          "data": {
            "text/plain": [
              "<ggplot: (8757260255878)>"
            ]
          },
          "metadata": {
            "tags": []
          },
          "execution_count": 23
        }
      ]
    },
    {
      "cell_type": "code",
      "metadata": {
        "id": "AJSSHDUiWNqs",
        "colab_type": "code",
        "colab": {}
      },
      "source": [
        "#@title average regret over learning (lower is better)\n",
        "bandit_noise_analysis.plot_average(bandit_noise_df, SWEEP_VARS)"
      ],
      "execution_count": 0,
      "outputs": []
    },
    {
      "cell_type": "markdown",
      "metadata": {
        "id": "ASLdhBfNS3L3",
        "colab_type": "text"
      },
      "source": [
        "## Build your own agents however you like!\n",
        "\n",
        "The `bsuite` does not make any assumption about how you implement your agents.\n",
        "<br>You can use `TensorFlow`, `JAX`, `Dopamine`, `OpenAI` baselines, or any other reinforcement learning framework .\n",
        "\n",
        "For instance below we show how to run the PPO `OpenAI` baseline agent"
      ]
    },
    {
      "cell_type": "code",
      "metadata": {
        "id": "PPHO7mw8Tc5L",
        "colab_type": "code",
        "colab": {}
      },
      "source": [
        "#@title \n",
        "!git clone https://github.com/openai/baselines.git\n",
        "!pip install baselines/"
      ],
      "execution_count": 0,
      "outputs": []
    },
    {
      "cell_type": "code",
      "metadata": {
        "id": "f3AsF_nuTpOj",
        "colab_type": "code",
        "colab": {}
      },
      "source": [
        "from baselines.common.vec_env import dummy_vec_env\n",
        "from baselines.ppo2 import ppo2\n",
        "from bsuite.utils import gym_wrapper\n",
        "import tensorflow as tf\n",
        "\n",
        "\n",
        "SAVE_PATH_PPO = '/tmp/bsuite/ppo'\n",
        "\n",
        "def _load_env():\n",
        "  raw_env = bsuite.load_and_record(\n",
        "      bsuite_id='bandit_noise/0', \n",
        "      save_path=SAVE_PATH_PPO, logging_mode='csv', overwrite=True)\n",
        "  return gym_wrapper.GymWrapper(raw_env)\n",
        "env = dummy_vec_env.DummyVecEnv([_load_env])\n",
        "\n",
        "ppo2.learn(\n",
        "    env=env, network='mlp', lr=1e-3, gamma=.99,\n",
        "    total_timesteps=10000, nsteps=100)"
      ],
      "execution_count": 0,
      "outputs": []
    },
    {
      "cell_type": "code",
      "metadata": {
        "id": "TWdPtSMWpv34",
        "colab_type": "code",
        "colab": {}
      },
      "source": [
        "#@title The bsuite data has been logged in the same way\n",
        "!cat /tmp/bsuite/ppo/bsuite_id_-_bandit_noise-0.csv"
      ],
      "execution_count": 0,
      "outputs": []
    },
    {
      "cell_type": "markdown",
      "metadata": {
        "id": "oAbKcGZBWdbg",
        "colab_type": "text"
      },
      "source": [
        "## Next steps\n",
        "\n",
        "You now have a good introduction to the basic facility of running `bsuite` code.\n",
        "\n",
        "For an example of the sort of output you can get through running a full `sweep.SWEEP` have a look at some pre-baked reports:\n",
        "- www.bit.ly/bsuite-agents\n",
        "- www.bit.ly/bsuite-optimizer\n",
        "- www.bit.ly/bsuite-ensemble\n",
        "\n",
        "There are lots more ways you can use `bsuite` in your research:\n",
        "- Examples using `bsuite` from Dopamine framework.\n",
        "- Automated `bsuite` appendix suitable for inclusion in conference paper.\n",
        "\n",
        "\n",
        "If you have any questions or comments... please get in touch!\n",
        "\n"
      ]
    },
    {
      "cell_type": "code",
      "metadata": {
        "id": "6e0XqfC-YIC9",
        "colab_type": "code",
        "colab": {}
      },
      "source": [
        ""
      ],
      "execution_count": 0,
      "outputs": []
    }
  ]
}